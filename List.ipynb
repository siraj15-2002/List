{
 "cells": [
  {
   "cell_type": "code",
   "execution_count": 68,
   "id": "d76eaa8b-c371-47e0-8ddd-f6e2dd9da258",
   "metadata": {},
   "outputs": [
    {
     "name": "stdout",
     "output_type": "stream",
     "text": [
      "yes..! fan is present\n"
     ]
    }
   ],
   "source": [
    " a=[\"fan\",\"bulb\",\"door\"]\n",
    "if \"fan\" in a:\n",
    "    print(\"yes..! fan is present\")\n",
    "else:\n",
    "    print(\"fan is not present\")"
   ]
  },
  {
   "cell_type": "code",
   "execution_count": 77,
   "id": "7c684db2-3982-4399-9ab5-3a8fb3e3e23d",
   "metadata": {},
   "outputs": [
    {
     "name": "stdout",
     "output_type": "stream",
     "text": [
      "[]\n"
     ]
    }
   ],
   "source": [
    "a=[\"pear\",\"orange\",\"apple\"]\n",
    "#del a #first method\n",
    "a.clear() #second method\n",
    "print(a)"
   ]
  },
  {
   "cell_type": "code",
   "execution_count": 83,
   "id": "2eb208f3-0dc0-4d09-8ae9-7e15bdf9e12d",
   "metadata": {},
   "outputs": [
    {
     "name": "stdout",
     "output_type": "stream",
     "text": [
      "pear\n",
      "pear\n"
     ]
    }
   ],
   "source": [
    "#matching 1st elements in the list\n",
    "fruits=[\"pear\",\"mango\",\"apple\",\"pear\",\"apple\"]\n",
    "for i in fruits:\n",
    "    if i==\"pear\":\n",
    "        print(i)\n",
    "    "
   ]
  },
  {
   "cell_type": "code",
   "execution_count": 88,
   "id": "2d8113b6-82f6-4b3e-ba5d-cfe8793d5e5d",
   "metadata": {},
   "outputs": [
    {
     "name": "stdout",
     "output_type": "stream",
     "text": [
      "['jeans', 'pants']\n",
      "['jeans', 'pants']\n"
     ]
    }
   ],
   "source": [
    "#concatenate list via two ways\n",
    "list1=list((\"jeans\",\"pants\"))\n",
    "print(list1)#first method\n",
    "print(list(list1))#second method"
   ]
  },
  {
   "cell_type": "code",
   "execution_count": 97,
   "id": "ab0c7dde-b4f3-4e3f-94bb-196b70ec27a9",
   "metadata": {},
   "outputs": [
    {
     "name": "stdout",
     "output_type": "stream",
     "text": [
      "1\n"
     ]
    }
   ],
   "source": [
    "animal=[\"dog\",\"cat\",\"fish\",\"fish\",\"cat\"]\n",
    "animal.count(\"fish\")\n",
    "animal.count(\"cat\")\n",
    "animal.count(\"dog\")\n"
   ]
  },
  {
   "cell_type": "code",
   "execution_count": 118,
   "id": "2fa6daf9-d754-4ef6-9314-b8a1bec6ba39",
   "metadata": {},
   "outputs": [
    {
     "name": "stdout",
     "output_type": "stream",
     "text": [
      "five is not present , but four is present\n"
     ]
    }
   ],
   "source": [
    "li=[1,2,3,4]\n",
    "four=4\n",
    "five=5\n",
    "if five in li and four in li:\n",
    "    print(\"five is present\")\n",
    "elif five not in li and four in li:\n",
    "    print(\"five is not present , but four is present\")\n",
    "    \n",
    "    \n",
    "    \n",
    "\n",
    "    "
   ]
  },
  {
   "cell_type": "code",
   "execution_count": 121,
   "id": "e31cd7b6-206b-45b8-a4bc-ad8c1315de41",
   "metadata": {},
   "outputs": [
    {
     "name": "stdout",
     "output_type": "stream",
     "text": [
      "3\n"
     ]
    }
   ],
   "source": [
    "list1=[1,2,3]\n",
    "a =len(list1)\n",
    "print(a)"
   ]
  },
  {
   "cell_type": "code",
   "execution_count": 125,
   "id": "18072bab-ba1a-47e7-9f3e-2f5d9eea3bb2",
   "metadata": {},
   "outputs": [
    {
     "name": "stdout",
     "output_type": "stream",
     "text": [
      "10 x  5  =  50\n",
      "20 x  5  =  100\n",
      "30 x  5  =  150\n",
      "40 x  5  =  200\n",
      "50 x  5  =  250\n"
     ]
    }
   ],
   "source": [
    "#multiply every element in list\n",
    "li=[10,20,30,40,50]\n",
    "for i in li:\n",
    "    print(i ,\"x  5  = \",i*5)"
   ]
  },
  {
   "cell_type": "code",
   "execution_count": 129,
   "id": "ed930f20-4df4-4695-afaa-c9cbac22b1f7",
   "metadata": {},
   "outputs": [
    {
     "name": "stdout",
     "output_type": "stream",
     "text": [
      "['1', '2', 'Here', '3', '4', '5']\n"
     ]
    }
   ],
   "source": [
    "#insert a value at specific index position\n",
    "num=['1','2','3','4','5']\n",
    "num.insert(2,\"Here\")\n",
    "print(num)"
   ]
  },
  {
   "cell_type": "code",
   "execution_count": 131,
   "id": "45774864-c1a4-4afb-a4ae-1f1adb9eb109",
   "metadata": {},
   "outputs": [
    {
     "data": {
      "text/plain": [
       "[1, 2, 3, 4, 5, 6, 7, 8, 9, 10]"
      ]
     },
     "execution_count": 131,
     "metadata": {},
     "output_type": "execute_result"
    }
   ],
   "source": [
    "li=[1,2,3,4,5,6,7,8,9,10,11,12,13,14,15]\n",
    "li[0:10]"
   ]
  },
  {
   "cell_type": "code",
   "execution_count": 143,
   "id": "9e7b4366-4ba9-46d8-b20f-fbbe385ce641",
   "metadata": {},
   "outputs": [
    {
     "name": "stdout",
     "output_type": "stream",
     "text": [
      "[1, 2, 3, 4, 5, 6, 7, 8, 9, 10, 11, 12, 18, 19]\n"
     ]
    }
   ],
   "source": [
    "li=[1,2,3,4,5,6,7,8,9,10,11,12,13,14,15,16,17,18,19]\n",
    "li[12:17]=[]\n",
    "print(li)\n",
    "\n"
   ]
  },
  {
   "cell_type": "code",
   "execution_count": 151,
   "id": "5bc2169c-e938-4253-8cf8-1a8b01b1aa71",
   "metadata": {},
   "outputs": [
    {
     "data": {
      "text/plain": [
       "[4, 6, 8, 10, 12, 14, 16]"
      ]
     },
     "execution_count": 151,
     "metadata": {},
     "output_type": "execute_result"
    }
   ],
   "source": [
    "li=[1,2,3,4,5,6,7,8,9,10,11,12,13,14,15,16,17,18,19]\n",
    "li[3:16:2]\n",
    "\n"
   ]
  },
  {
   "cell_type": "code",
   "execution_count": 164,
   "id": "8aece587-cc9b-45f2-a679-2c13afbb5e80",
   "metadata": {},
   "outputs": [
    {
     "name": "stdout",
     "output_type": "stream",
     "text": [
      "[4, 6, 8, 10, 12, 14, 16, 22, 40]\n"
     ]
    }
   ],
   "source": [
    "li=[16, 14, 12,22,40, 10, 8, 6, 4]\n",
    "li.sort()\n",
    "print(li)#ascending order"
   ]
  },
  {
   "cell_type": "code",
   "execution_count": 166,
   "id": "2add0f5c-7d86-487e-8cea-4c6e27eb8bb4",
   "metadata": {},
   "outputs": [
    {
     "name": "stdout",
     "output_type": "stream",
     "text": [
      "[40, 22, 16, 14, 12, 10, 8, 6, 4]\n"
     ]
    }
   ],
   "source": [
    "li=[16, 14, 12,22,40, 10, 8, 6, 4]\n",
    "li.sort(reverse =True)\n",
    "print(li)#descending order"
   ]
  },
  {
   "cell_type": "code",
   "execution_count": 167,
   "id": "6327ba2a-e094-467e-885c-218e6f6e5bfc",
   "metadata": {},
   "outputs": [
    {
     "data": {
      "text/plain": [
       "[5, 4, 3, 2, 1]"
      ]
     },
     "execution_count": 167,
     "metadata": {},
     "output_type": "execute_result"
    }
   ],
   "source": [
    "li=[1,2,3,4,5]\n",
    "li[::-1]#reverse the order of list"
   ]
  },
  {
   "cell_type": "code",
   "execution_count": 168,
   "id": "ca45bda2-ae54-4f3a-90ff-3058a426185f",
   "metadata": {},
   "outputs": [
    {
     "name": "stdout",
     "output_type": "stream",
     "text": [
      "4\n"
     ]
    }
   ],
   "source": [
    "li=[16, 14, 12,22,40, 10, 8, 6, 4]\n",
    "minimumValue =min(li)\n",
    "print(minimumValue)#minimum value in the list"
   ]
  },
  {
   "cell_type": "code",
   "execution_count": 169,
   "id": "b5a34e74-0a47-46ee-adaf-b12b8bf2c305",
   "metadata": {},
   "outputs": [
    {
     "name": "stdout",
     "output_type": "stream",
     "text": [
      "132\n"
     ]
    }
   ],
   "source": [
    "li=[16, 14, 12,22,40, 10, 8, 6, 4]\n",
    "sumall = sum(li)\n",
    "print(sumall) #sum of all the elements in the list"
   ]
  },
  {
   "cell_type": "code",
   "execution_count": 181,
   "id": "8a5e0313-1a48-4a34-b1e4-7bc3bea53a34",
   "metadata": {},
   "outputs": [
    {
     "name": "stdout",
     "output_type": "stream",
     "text": [
      "16\n",
      "30\n",
      "42\n",
      "64\n",
      "104\n",
      "114\n",
      "122\n",
      "128\n",
      "132\n"
     ]
    }
   ],
   "source": [
    "li=[16, 14, 12,22,40, 10, 8, 6, 4]\n",
    "total=0\n",
    "for num in li:\n",
    "    total += num\n",
    "    print(total) #without sum method"
   ]
  },
  {
   "cell_type": "code",
   "execution_count": null,
   "id": "e909b8bc-d794-4045-a035-be7bd13bb3d5",
   "metadata": {},
   "outputs": [],
   "source": []
  }
 ],
 "metadata": {
  "kernelspec": {
   "display_name": "Python 3 (ipykernel)",
   "language": "python",
   "name": "python3"
  },
  "language_info": {
   "codemirror_mode": {
    "name": "ipython",
    "version": 3
   },
   "file_extension": ".py",
   "mimetype": "text/x-python",
   "name": "python",
   "nbconvert_exporter": "python",
   "pygments_lexer": "ipython3",
   "version": "3.12.3"
  }
 },
 "nbformat": 4,
 "nbformat_minor": 5
}
